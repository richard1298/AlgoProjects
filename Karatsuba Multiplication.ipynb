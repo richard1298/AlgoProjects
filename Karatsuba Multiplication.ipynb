{
 "cells": [
  {
   "cell_type": "code",
   "execution_count": 198,
   "id": "aea8f51a",
   "metadata": {},
   "outputs": [],
   "source": [
    "import math\n",
    "def interger_split(foo):\n",
    "    foo_string = str(foo)\n",
    "    dimension = len(foo_string)\n",
    "    if dimension == 1:\n",
    "        return [foo,0,1,0]\n",
    "    else:\n",
    "        length_of_second_half = math.floor(dimension/2)\n",
    "        length_of_first_half = dimension - length_of_second_half\n",
    "        second_half = int(foo_string[length_of_first_half:]) \n",
    "#        length_of_second_half = len(str(second_half))\n",
    "#        length_of_first_half = dimension - len(str(second_half))\n",
    "#         first_half = int(foo_string[:length_of_first_half+1])\n",
    "#        print(first_half)\n",
    "        first_half = int((foo - second_half)//10**(length_of_second_half))\n",
    "#         print(foo - second_half)\n",
    "#         print((foo - second_half)/10**(length_of_second_half))\n",
    "#         print(int((foo - second_half)/10**(length_of_second_half)))\n",
    "#         print(10**(length_of_second_half))\n",
    "        return [first_half,second_half,length_of_first_half,length_of_second_half]"
   ]
  },
  {
   "cell_type": "code",
   "execution_count": 199,
   "id": "e88915a1",
   "metadata": {},
   "outputs": [],
   "source": [
    "\n",
    "count = 0\n",
    "def recur_multi(x,y):\n",
    "    global count\n",
    "    count+=1\n",
    "#    print(\"Iteration： \", count, \"##############\")\n",
    "    dim_x = len(str(x))\n",
    "    dim_y = len(str(y))\n",
    "#    print(\"x = \",x, \", y = \", y)\n",
    "#    print(\"length of x = \",dim_x,\"length of y = \", dim_y)\n",
    "    if dim_x == 1 or dim_y == 1:\n",
    "        return x*y\n",
    "#        print(\"end of recursion:\", x*y)\n",
    "    else:\n",
    "        [a,b,len_a,len_b] = interger_split(x)\n",
    "#        print(\"first half of x is a = \", a, \", second half of x is b = \", b)\n",
    "        [c,d,len_c,len_d] = interger_split(y)\n",
    "#        print(\"first half of y is c = \", c, \", second half of y is d = \", d)\n",
    "        ac = recur_multi(a,c)\n",
    "        bd = recur_multi(b,d)\n",
    "        bc = recur_multi(b,c)\n",
    "        ad = recur_multi(a,d)\n",
    "        return 10**(len_b+len_d)*ac+bd+10**(len_b)*ad+10**(len_d)*bc\n"
   ]
  },
  {
   "cell_type": "code",
   "execution_count": 200,
   "id": "18dc31e2",
   "metadata": {},
   "outputs": [],
   "source": [
    "def multi_kara(x,y):    \n",
    "    dim_x = len(str(x))\n",
    "    dim_y = len(str(y)) \n",
    "            \n",
    "    if dim_x == 1 or dim_y == 1:\n",
    "        return x*y\n",
    "    else:\n",
    "        if dim_x < dim_y:\n",
    "            trail_zero = dim_y - dim_x\n",
    "            new_y = y\n",
    "            new_x = int(x*10**(trail_zero))\n",
    "        else:\n",
    "            trail_zero = dim_x - dim_y\n",
    "            new_x = x\n",
    "            new_y = int(y*10**(trail_zero))\n",
    "\n",
    "        [a,b,len_a,len_b] = interger_split(new_x)\n",
    "    \n",
    "        [c,d,len_c,len_d] = interger_split(new_y)\n",
    "        \n",
    "        ac = multi_kara(a,c)\n",
    "        bd = multi_kara(b,d)\n",
    "        ac_n_bd = multi_kara(a+b,c+d)-ac-bd\n",
    "\n",
    "        return int((10**(len_b+len_d)*ac+bd+10**(len_b)*ac_n_bd)//10**(trail_zero))"
   ]
  },
  {
   "cell_type": "code",
   "execution_count": 201,
   "id": "25e5219b",
   "metadata": {},
   "outputs": [
    {
     "name": "stdout",
     "output_type": "stream",
     "text": [
      "Recursive Output = \n",
      " 8539734222673567065463550869546574495034888535765114961879601127067743044893204848617875072216249073013374895871952806582723184\n",
      "Karatsuba Output = \n",
      " 8539734222673567065463550869546574495034888535765114961879601127067743044893204848617875072216249073013374895871952806582723184\n",
      "Computer Output = \n",
      " 8539734222673567065463550869546574495034888535765114961879601127067743044893204848617875072216249073013374895871952806582723184\n"
     ]
    }
   ],
   "source": [
    "x = 3141592653589793238462643383279502884197169399375105820974944592\n",
    "y = 2718281828459045235360287471352662497757247093699959574966967627\n",
    "print(\"Recursive Output = \\n\", recur_multi(x,y))\n",
    "print(\"Karatsuba Output = \\n\", multi_kara(x,y))\n",
    "print(\"Computer Output = \\n\", x*y)"
   ]
  },
  {
   "cell_type": "code",
   "execution_count": null,
   "id": "9d1f953f",
   "metadata": {},
   "outputs": [],
   "source": []
  }
 ],
 "metadata": {
  "kernelspec": {
   "display_name": "Python 3",
   "language": "python",
   "name": "python3"
  },
  "language_info": {
   "codemirror_mode": {
    "name": "ipython",
    "version": 3
   },
   "file_extension": ".py",
   "mimetype": "text/x-python",
   "name": "python",
   "nbconvert_exporter": "python",
   "pygments_lexer": "ipython3",
   "version": "3.8.8"
  }
 },
 "nbformat": 4,
 "nbformat_minor": 5
}
